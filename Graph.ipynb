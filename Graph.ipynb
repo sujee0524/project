{
 "cells": [
  {
   "cell_type": "code",
   "execution_count": 59,
   "metadata": {},
   "outputs": [],
   "source": [
    "import pandas as pd\n",
    "import matplotlib.pyplot as plt\n",
    "import matplotlib as matplot\n",
    "import seaborn as sns\n",
    "%matplotlib inline\n",
    "\n",
    "\n",
    "count = pd.read_csv('C:/Users/slee776/Downloads/TrainInitCountSummary.csv')"
   ]
  },
  {
   "cell_type": "code",
   "execution_count": 10,
   "metadata": {
    "collapsed": true
   },
   "outputs": [],
   "source": [
    "prpt = pd.read_csv('C:/Users/slee776/Downloads/TrainInfoSummary.csv')"
   ]
  },
  {
   "cell_type": "code",
   "execution_count": 54,
   "metadata": {
    "collapsed": true
   },
   "outputs": [],
   "source": [
    "sample = pd.read_csv('C:/Users/slee776/Downloads/result.csv')\n",
    "sample = sample.dropna()"
   ]
  },
  {
   "cell_type": "code",
   "execution_count": 7,
   "metadata": {},
   "outputs": [
    {
     "data": {
      "text/html": [
       "<div>\n",
       "<style>\n",
       "    .dataframe thead tr:only-child th {\n",
       "        text-align: right;\n",
       "    }\n",
       "\n",
       "    .dataframe thead th {\n",
       "        text-align: left;\n",
       "    }\n",
       "\n",
       "    .dataframe tbody tr th {\n",
       "        vertical-align: top;\n",
       "    }\n",
       "</style>\n",
       "<table border=\"1\" class=\"dataframe\">\n",
       "  <thead>\n",
       "    <tr style=\"text-align: right;\">\n",
       "      <th></th>\n",
       "      <th>db_index</th>\n",
       "      <th>count</th>\n",
       "    </tr>\n",
       "  </thead>\n",
       "  <tbody>\n",
       "    <tr>\n",
       "      <th>0</th>\n",
       "      <td>0</td>\n",
       "      <td>5445773</td>\n",
       "    </tr>\n",
       "    <tr>\n",
       "      <th>1</th>\n",
       "      <td>1</td>\n",
       "      <td>5388671</td>\n",
       "    </tr>\n",
       "    <tr>\n",
       "      <th>2</th>\n",
       "      <td>2</td>\n",
       "      <td>5363692</td>\n",
       "    </tr>\n",
       "    <tr>\n",
       "      <th>3</th>\n",
       "      <td>3</td>\n",
       "      <td>5511291</td>\n",
       "    </tr>\n",
       "    <tr>\n",
       "      <th>4</th>\n",
       "      <td>4</td>\n",
       "      <td>5452589</td>\n",
       "    </tr>\n",
       "  </tbody>\n",
       "</table>\n",
       "</div>"
      ],
      "text/plain": [
       "   db_index    count\n",
       "0         0  5445773\n",
       "1         1  5388671\n",
       "2         2  5363692\n",
       "3         3  5511291\n",
       "4         4  5452589"
      ]
     },
     "execution_count": 7,
     "metadata": {},
     "output_type": "execute_result"
    }
   ],
   "source": [
    "count.head()"
   ]
  },
  {
   "cell_type": "code",
   "execution_count": 11,
   "metadata": {},
   "outputs": [
    {
     "data": {
      "text/html": [
       "<div>\n",
       "<style>\n",
       "    .dataframe thead tr:only-child th {\n",
       "        text-align: right;\n",
       "    }\n",
       "\n",
       "    .dataframe thead th {\n",
       "        text-align: left;\n",
       "    }\n",
       "\n",
       "    .dataframe tbody tr th {\n",
       "        vertical-align: top;\n",
       "    }\n",
       "</style>\n",
       "<table border=\"1\" class=\"dataframe\">\n",
       "  <thead>\n",
       "    <tr style=\"text-align: right;\">\n",
       "      <th></th>\n",
       "      <th>db_index</th>\n",
       "      <th>num_vertex</th>\n",
       "      <th>num_edge</th>\n",
       "      <th>average_degree</th>\n",
       "      <th>density</th>\n",
       "    </tr>\n",
       "  </thead>\n",
       "  <tbody>\n",
       "    <tr>\n",
       "      <th>0</th>\n",
       "      <td>0</td>\n",
       "      <td>21332</td>\n",
       "      <td>3179505</td>\n",
       "      <td>149.048612</td>\n",
       "      <td>0.013975</td>\n",
       "    </tr>\n",
       "    <tr>\n",
       "      <th>1</th>\n",
       "      <td>1</td>\n",
       "      <td>15839</td>\n",
       "      <td>2354773</td>\n",
       "      <td>148.669297</td>\n",
       "      <td>0.018774</td>\n",
       "    </tr>\n",
       "    <tr>\n",
       "      <th>2</th>\n",
       "      <td>2</td>\n",
       "      <td>11466</td>\n",
       "      <td>1704644</td>\n",
       "      <td>148.669458</td>\n",
       "      <td>0.025934</td>\n",
       "    </tr>\n",
       "    <tr>\n",
       "      <th>3</th>\n",
       "      <td>3</td>\n",
       "      <td>89461</td>\n",
       "      <td>13350689</td>\n",
       "      <td>149.234739</td>\n",
       "      <td>0.003336</td>\n",
       "    </tr>\n",
       "    <tr>\n",
       "      <th>4</th>\n",
       "      <td>4</td>\n",
       "      <td>27478</td>\n",
       "      <td>4095071</td>\n",
       "      <td>149.030897</td>\n",
       "      <td>0.010848</td>\n",
       "    </tr>\n",
       "  </tbody>\n",
       "</table>\n",
       "</div>"
      ],
      "text/plain": [
       "   db_index  num_vertex  num_edge  average_degree   density\n",
       "0         0       21332   3179505      149.048612  0.013975\n",
       "1         1       15839   2354773      148.669297  0.018774\n",
       "2         2       11466   1704644      148.669458  0.025934\n",
       "3         3       89461  13350689      149.234739  0.003336\n",
       "4         4       27478   4095071      149.030897  0.010848"
      ]
     },
     "execution_count": 11,
     "metadata": {},
     "output_type": "execute_result"
    }
   ],
   "source": [
    "prpt.head()"
   ]
  },
  {
   "cell_type": "code",
   "execution_count": 15,
   "metadata": {},
   "outputs": [
    {
     "data": {
      "text/html": [
       "<div>\n",
       "<style>\n",
       "    .dataframe thead tr:only-child th {\n",
       "        text-align: right;\n",
       "    }\n",
       "\n",
       "    .dataframe thead th {\n",
       "        text-align: left;\n",
       "    }\n",
       "\n",
       "    .dataframe tbody tr th {\n",
       "        vertical-align: top;\n",
       "    }\n",
       "</style>\n",
       "<table border=\"1\" class=\"dataframe\">\n",
       "  <thead>\n",
       "    <tr style=\"text-align: right;\">\n",
       "      <th></th>\n",
       "      <th>db_index</th>\n",
       "      <th>method</th>\n",
       "      <th>ratio</th>\n",
       "      <th>result</th>\n",
       "      <th>time</th>\n",
       "      <th>sampling time</th>\n",
       "    </tr>\n",
       "  </thead>\n",
       "  <tbody>\n",
       "    <tr>\n",
       "      <th>0</th>\n",
       "      <td>0.0</td>\n",
       "      <td>randomEdge</td>\n",
       "      <td>0.1</td>\n",
       "      <td>5534.0</td>\n",
       "      <td>9.62</td>\n",
       "      <td>0.04</td>\n",
       "    </tr>\n",
       "    <tr>\n",
       "      <th>1</th>\n",
       "      <td>0.0</td>\n",
       "      <td>randomWalk</td>\n",
       "      <td>0.1</td>\n",
       "      <td>863.0</td>\n",
       "      <td>7.23</td>\n",
       "      <td>8.20</td>\n",
       "    </tr>\n",
       "    <tr>\n",
       "      <th>3</th>\n",
       "      <td>0.0</td>\n",
       "      <td>randomEdge</td>\n",
       "      <td>0.2</td>\n",
       "      <td>44127.0</td>\n",
       "      <td>9.63</td>\n",
       "      <td>0.04</td>\n",
       "    </tr>\n",
       "    <tr>\n",
       "      <th>4</th>\n",
       "      <td>0.0</td>\n",
       "      <td>randomWalk</td>\n",
       "      <td>0.2</td>\n",
       "      <td>3915.0</td>\n",
       "      <td>14.51</td>\n",
       "      <td>9.15</td>\n",
       "    </tr>\n",
       "    <tr>\n",
       "      <th>5</th>\n",
       "      <td>0.0</td>\n",
       "      <td>random</td>\n",
       "      <td>0.3</td>\n",
       "      <td>1199.0</td>\n",
       "      <td>9.66</td>\n",
       "      <td>0.12</td>\n",
       "    </tr>\n",
       "  </tbody>\n",
       "</table>\n",
       "</div>"
      ],
      "text/plain": [
       "   db_index      method  ratio   result   time  sampling time\n",
       "0       0.0  randomEdge    0.1   5534.0   9.62           0.04\n",
       "1       0.0  randomWalk    0.1    863.0   7.23           8.20\n",
       "3       0.0  randomEdge    0.2  44127.0   9.63           0.04\n",
       "4       0.0  randomWalk    0.2   3915.0  14.51           9.15\n",
       "5       0.0      random    0.3   1199.0   9.66           0.12"
      ]
     },
     "execution_count": 15,
     "metadata": {},
     "output_type": "execute_result"
    }
   ],
   "source": [
    "sample.head()"
   ]
  },
  {
   "cell_type": "code",
   "execution_count": 120,
   "metadata": {},
   "outputs": [],
   "source": [
    "result_random = sample.loc[sample[\"method\"]==\"random\",]"
   ]
  },
  {
   "cell_type": "code",
   "execution_count": 121,
   "metadata": {},
   "outputs": [],
   "source": [
    "result_randomEdge = sample.loc[sample[\"method\"]==\"randomEdge\",]\n",
    "result_randomWalk = sample.loc[sample[\"method\"]==\"randomWalk\",]"
   ]
  },
  {
   "cell_type": "code",
   "execution_count": 122,
   "metadata": {},
   "outputs": [],
   "source": [
    "result_random = result_random.join(count.set_index('db_index'), on='db_index')\n",
    "result_randomEdge = result_randomEdge.join(count.set_index('db_index'), on='db_index')\n",
    "result_randomWalk = result_randomWalk.join(count.set_index('db_index'), on='db_index')"
   ]
  },
  {
   "cell_type": "code",
   "execution_count": 123,
   "metadata": {},
   "outputs": [],
   "source": [
    "result_random[\"result_ratio\"] = result_random[\"result\"]/result_random[\"count\"]\n",
    "result_randomEdge[\"result_ratio\"] = result_randomEdge[\"result\"]/result_randomEdge[\"count\"]\n",
    "result_randomWalk[\"result_ratio\"] = result_randomWalk[\"result\"]/result_randomWalk[\"count\"]"
   ]
  },
  {
   "cell_type": "code",
   "execution_count": 127,
   "metadata": {},
   "outputs": [
    {
     "data": {
      "image/png": "[encoded data removed]",
      "text/plain": [
       "<matplotlib.figure.Figure at 0xe5a7af0>"
      ]
     },
     "metadata": {},
     "output_type": "display_data"
    },
    {
     "data": {
      "image/png": "[encoded data removed]",
      "text/plain": [
       "<matplotlib.figure.Figure at 0xe540670>"
      ]
     },
     "metadata": {},
     "output_type": "display_data"
    },
    {
     "data": {
      "image/png": "[encoded data removed]",
      "text/plain": [
       "<matplotlib.figure.Figure at 0x113b4ff0>"
      ]
     },
     "metadata": {},
     "output_type": "display_data"
    }
   ],
   "source": [
    "plt.figure(figsize = (6,4))\n",
    "for i in xrange(40) :\n",
    "    plt.plot(result_random.loc[result_random['db_index']==i,'ratio'],result_random.loc[result_random['db_index']==i,'result_ratio'])\n",
    "\n",
    "plt.figure(figsize = (6,4))\n",
    "for i in xrange(40) :\n",
    "    plt.plot(result_randomEdge.loc[result_randomEdge['db_index']==i,'ratio'],result_randomEdge.loc[result_randomEdge['db_index']==i,'result_ratio'])\n",
    "\n",
    "plt.figure(figsize = (6,4))\n",
    "for i in xrange(40) :\n",
    "    plt.plot(result_randomWalk.loc[result_randomWalk['db_index']==i,'ratio'],result_randomWalk.loc[result_randomWalk['db_index']==i,'result_ratio'])"
   ]
  },
  {
   "cell_type": "code",
   "execution_count": null,
   "metadata": {
    "collapsed": true
   },
   "outputs": [],
   "source": []
  },
  {
   "cell_type": "code",
   "execution_count": 132,
   "metadata": {
    "scrolled": false
   },
   "outputs": [
    {
     "name": "stdout",
     "output_type": "stream",
     "text": [
      "Ratio : 0.1 Mean : nan Stv : nan // 0.001000\n",
      "Ratio : 0.2 Mean : 0.000013 Stv : 0.0000 // 0.008000\n",
      "Ratio : 0.3 Mean : 0.000220 Stv : 0.0000 // 0.027000\n",
      "Ratio : 0.4 Mean : 0.001651 Stv : 0.0000 // 0.064000\n",
      "Ratio : 0.5 Mean : 0.007873 Stv : 0.0001 // 0.125000\n",
      "Ratio : 0.6 Mean : 0.028131 Stv : 0.0002 // 0.216000\n",
      "Ratio : 0.7 Mean : 0.082611 Stv : 0.0004 // 0.343000\n",
      "Ratio : 0.8 Mean : 0.210197 Stv : 0.0008 // 0.512000\n",
      "Ratio : 0.9 Mean : 0.478929 Stv : 0.0009 // 0.729000\n"
     ]
    }
   ],
   "source": [
    "for ratio in [0.1,0.2,0.3,0.4,0.5,0.6,0.7,0.8,0.9] :\n",
    "    #ratio = r*0.1\n",
    "    #print ratio\n",
    "    #print result_random.loc[result_random['ratio']==ratio,'result_ratio']\n",
    "    ss = result_random.loc[result_random['ratio']==ratio,'result_ratio']\n",
    "    #print ss\n",
    "    print(\"Ratio : %.1f Mean : %.6f Stv : %.4f // %.6f\" %(ratio, ss.mean(skipna=True), ss.std(), ratio**3))\n",
    "    #print(ss.stdev())"
   ]
  },
  {
   "cell_type": "code",
   "execution_count": 128,
   "metadata": {},
   "outputs": [
    {
     "name": "stdout",
     "output_type": "stream",
     "text": [
      "Ratio : 0.1 Mean : 0.001005 Stv : 0.0000\n",
      "Ratio : 0.2 Mean : 0.008066 Stv : 0.0001\n",
      "Ratio : 0.3 Mean : 0.027148 Stv : 0.0002\n",
      "Ratio : 0.4 Mean : 0.064267 Stv : 0.0003\n",
      "Ratio : 0.5 Mean : 0.125442 Stv : 0.0004\n",
      "Ratio : 0.6 Mean : 0.216677 Stv : 0.0006\n",
      "Ratio : 0.7 Mean : 0.343809 Stv : 0.0008\n",
      "Ratio : 0.8 Mean : 0.512689 Stv : 0.0009\n",
      "Ratio : 0.9 Mean : 0.729691 Stv : 0.0006\n"
     ]
    }
   ],
   "source": [
    "for ratio in [0.1,0.2,0.3,0.4,0.5,0.6,0.7,0.8,0.9] :\n",
    "    ss = result_randomEdge.loc[result_randomEdge['ratio']==ratio,'result_ratio']\n",
    "    print(\"Ratio : %.1f Mean : %.06f Stv : %.04f\" %(ratio, ss.mean(skipna=True), ss.std()))\n"
   ]
  },
  {
   "cell_type": "code",
   "execution_count": 129,
   "metadata": {},
   "outputs": [
    {
     "name": "stdout",
     "output_type": "stream",
     "text": [
      "Ratio : 0.1 Mean : 0.000169 Stv : 0.0000\n",
      "Ratio : 0.2 Mean : 0.000845 Stv : 0.0001\n",
      "Ratio : 0.3 Mean : 0.002069 Stv : 0.0002\n",
      "Ratio : 0.4 Mean : 0.003836 Stv : 0.0003\n",
      "Ratio : 0.5 Mean : 0.006072 Stv : 0.0004\n",
      "Ratio : 0.6 Mean : 0.008843 Stv : 0.0006\n",
      "Ratio : 0.7 Mean : 0.012081 Stv : 0.0004\n",
      "Ratio : 0.8 Mean : 0.015628 Stv : 0.0007\n",
      "Ratio : 0.9 Mean : 0.020249 Stv : 0.0008\n"
     ]
    }
   ],
   "source": [
    "for ratio in [0.1,0.2,0.3,0.4,0.5,0.6,0.7,0.8,0.9] :\n",
    "    ss = result_randomWalk.loc[result_randomWalk['ratio']==ratio,'result_ratio']\n",
    "    print(\"Ratio : %.1f Mean : %.06f Stv : %.04f\" %(ratio, ss.mean(skipna=True), ss.std()))\n"
   ]
  }
 ],
 "metadata": {
  "kernelspec": {
   "display_name": "Python 2",
   "language": "python",
   "name": "python2"
  },
  "language_info": {
   "codemirror_mode": {
    "name": "ipython",
    "version": 2
   },
   "file_extension": ".py",
   "mimetype": "text/x-python",
   "name": "python",
   "nbconvert_exporter": "python",
   "pygments_lexer": "ipython2",
   "version": "2.7.13"
  }
 },
 "nbformat": 4,
 "nbformat_minor": 2
}
